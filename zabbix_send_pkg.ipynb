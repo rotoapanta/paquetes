{
 "cells": [
  {
   "cell_type": "code",
   "execution_count": 10,
   "id": "db5f3479-371e-47e1-857d-7f98e20bc21c",
   "metadata": {},
   "outputs": [],
   "source": [
    "import configparser\n",
    "from pyzabbix import ZabbixMetric, ZabbixSender\n",
    "import logging\n",
    "import os\n",
    "import sys\n",
    "\n",
    "\n",
    "        \n",
    "def connect2zabbix(zx_ip, zx_port):\n",
    "    \"\"\"\n",
    "    Try to connect to a ZX server, return\n",
    "    \"\"\"\n",
    "    try:\n",
    "        return ZabbixSender(zx_ip, zx_port)\n",
    "    except Exception as e:\n",
    "        raise ConnectionError(\"Error in connect2zabbix: %s\" % str(e))\n",
    "        \n",
    "        \n",
    "def send2Zabbix(zx_server, x):\n",
    "    \"\"\"\n",
    "    Receive soh_data array and send it to a ZX trigger item only  if ping ok\n",
    "    \"\"\"\n",
    "    print(x)\n",
    "    axis_x = x[0]\n",
    "    try:\n",
    "        hostname = \"CAYA_FW_1\"\n",
    "        metrics = [\n",
    "            ZabbixMetric(hostname, 'axis.x.data', axis_x[1:]),\n",
    "            ZabbixMetric(hostname, 'axis.y.data', x[1]),\n",
    "            ZabbixMetric(hostname, 'temperature.data', x[2]),\n",
    "            ZabbixMetric(hostname, 'serial.number.data', x[3])\n",
    "        ]\n",
    "        try:\n",
    "            res = zx_server.send(metrics)\n",
    "            logging.info(\"%s, %s\" % (hostname, res))\n",
    "        except Exception as e:\n",
    "            logging.info(\"Error in send2Zabbix. Error was: %s\" % str(e))\n",
    "\n",
    "    except Exception as e:\n",
    "        logging.info(\"Not station in dictionary: %s\" % str(e))"
   ]
  },
  {
   "cell_type": "code",
   "execution_count": 11,
   "id": "1895e698-f435-44c3-bd49-5f0edced2253",
   "metadata": {},
   "outputs": [
    {
     "name": "stdout",
     "output_type": "stream",
     "text": [
      "[12, 34, 56, 89, 3]\n"
     ]
    }
   ],
   "source": [
    "connect2zabbix('192.168.1.115',10051)\n",
    "send2Zabbix('192.168.1.115',[12,34,56,89,3])"
   ]
  },
  {
   "cell_type": "code",
   "execution_count": null,
   "id": "95ac27a1-7059-4772-a998-2188f73aae09",
   "metadata": {},
   "outputs": [],
   "source": []
  }
 ],
 "metadata": {
  "kernelspec": {
   "display_name": "env_tilt_project",
   "language": "python",
   "name": "env_tilt_project"
  },
  "language_info": {
   "codemirror_mode": {
    "name": "ipython",
    "version": 3
   },
   "file_extension": ".py",
   "mimetype": "text/x-python",
   "name": "python",
   "nbconvert_exporter": "python",
   "pygments_lexer": "ipython3",
   "version": "3.11.3"
  }
 },
 "nbformat": 4,
 "nbformat_minor": 5
}

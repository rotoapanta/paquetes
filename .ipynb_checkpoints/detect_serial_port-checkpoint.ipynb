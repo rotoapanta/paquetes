{
 "cells": [
  {
   "cell_type": "code",
   "execution_count": 1,
   "id": "571e7937-a635-402c-93ce-9558217b69e1",
   "metadata": {},
   "outputs": [
    {
     "name": "stdout",
     "output_type": "stream",
     "text": [
      "Conectando al puerto serial: COM5\n"
     ]
    }
   ],
   "source": [
    "import serial.tools.list_ports\n",
    "\n",
    "def detect_serial_port():\n",
    "    \"\"\"\n",
    "    Detectar el puerto serial al que se conecta automáticamente\n",
    "    \"\"\"\n",
    "    com_ports = serial.tools.list_ports.comports()\n",
    "    for port in com_ports:\n",
    "        # /dev/cu.usbserial-145240\n",
    "        if 'USB' in port.description:\n",
    "            return port.device\n",
    "        if 'cu.usb' in port.description:\n",
    "            return port.device\n",
    "    return None\n",
    "\n",
    "# serial_port = detect_serial_port() llamar a la funciopn y devuelve el puerto\n"
   ]
  },
  {
   "cell_type": "code",
   "execution_count": null,
   "id": "472e7901-1273-4006-83c8-bcbfa22f43ea",
   "metadata": {},
   "outputs": [],
   "source": []
  }
 ],
 "metadata": {
  "kernelspec": {
   "display_name": "env_tilt_project",
   "language": "python",
   "name": "env_tilt_project"
  },
  "language_info": {
   "codemirror_mode": {
    "name": "ipython",
    "version": 3
   },
   "file_extension": ".py",
   "mimetype": "text/x-python",
   "name": "python",
   "nbconvert_exporter": "python",
   "pygments_lexer": "ipython3",
   "version": "3.11.3"
  }
 },
 "nbformat": 4,
 "nbformat_minor": 5
}

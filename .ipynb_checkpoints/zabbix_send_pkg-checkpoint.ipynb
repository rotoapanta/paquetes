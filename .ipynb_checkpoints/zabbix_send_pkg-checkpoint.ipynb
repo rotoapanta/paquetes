{
 "cells": [
  {
   "cell_type": "code",
   "execution_count": null,
   "id": "db5f3479-371e-47e1-857d-7f98e20bc21c",
   "metadata": {},
   "outputs": [],
   "source": []
  }
 ],
 "metadata": {
  "kernelspec": {
   "display_name": "env_tilt_project",
   "language": "python",
   "name": "env_tilt_project"
  },
  "language_info": {
   "codemirror_mode": {
    "name": "ipython",
    "version": 3
   },
   "file_extension": ".py",
   "mimetype": "text/x-python",
   "name": "python",
   "nbconvert_exporter": "python",
   "pygments_lexer": "ipython3",
   "version": "3.11.3"
  }
 },
 "nbformat": 4,
 "nbformat_minor": 5
}

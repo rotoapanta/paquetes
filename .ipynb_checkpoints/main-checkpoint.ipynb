{
 "cells": [
  {
   "cell_type": "code",
   "execution_count": 1,
   "id": "e8ffb210-6e8b-4718-ac17-097b23545de4",
   "metadata": {},
   "outputs": [
    {
     "name": "stdout",
     "output_type": "stream",
     "text": [
      "Conectado a: COM5\n"
     ]
    },
    {
     "data": {
      "text/plain": [
       "['$-9162.82', ' 9162.82', '23.07', 'N7624\\r\\n']"
      ]
     },
     "execution_count": 1,
     "metadata": {},
     "output_type": "execute_result"
    }
   ],
   "source": [
    "from serial_port_pkg import *\n",
    "get_data_acquisition()"
   ]
  },
  {
   "cell_type": "code",
   "execution_count": null,
   "id": "89dae901-750d-41d7-a17a-57ba33e7f15d",
   "metadata": {},
   "outputs": [],
   "source": []
  }
 ],
 "metadata": {
  "kernelspec": {
   "display_name": "env_tilt_project",
   "language": "python",
   "name": "env_tilt_project"
  },
  "language_info": {
   "codemirror_mode": {
    "name": "ipython",
    "version": 3
   },
   "file_extension": ".py",
   "mimetype": "text/x-python",
   "name": "python",
   "nbconvert_exporter": "python",
   "pygments_lexer": "ipython3",
   "version": "3.11.3"
  }
 },
 "nbformat": 4,
 "nbformat_minor": 5
}

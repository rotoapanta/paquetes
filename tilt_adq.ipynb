{
 "cells": [
  {
   "cell_type": "markdown",
   "id": "3282f115-98ca-4b30-848f-a7dd496b264c",
   "metadata": {},
   "source": [
    "# https://pypi.org/project/pyserial/\n",
    "## pip install pyserial"
   ]
  },
  {
   "cell_type": "code",
   "execution_count": null,
   "id": "f26fe5e1-92be-4c0e-b6dc-ecdcd30f6633",
   "metadata": {},
   "outputs": [],
   "source": [
    "import importlib\n",
    "import subprocess\n",
    "\n",
    "def install_package(package_name):\n",
    "    try:\n",
    "        importlib.import_module(package_name)\n",
    "        print(f\"{package_name} ya está instalado.\")\n",
    "    except ImportError:\n",
    "        print(f\"{package_name} no está instalado. Instalando...\")\n",
    "        subprocess.check_call([\"pip\", \"install\", package_name])\n",
    "        print(f\"{package_name} instalado exitosamente.\")\n",
    " \n",
    "# Verificar e instalar la librería 'pyserial'\n",
    "install_package('pyserial')\n",
    "# Verificar e instalar la librería 'pyzabbix'\n",
    "install_package('pyzabbix')"
   ]
  },
  {
   "cell_type": "code",
   "execution_count": 31,
   "id": "69051c09-2b2b-4522-94c2-a66ec38d4b89",
   "metadata": {},
   "outputs": [
    {
     "name": "stdout",
     "output_type": "stream",
     "text": [
      "Conectado a: /dev/cu.usbserial-145240\n",
      "b'$-9162.82, -244.39,19.56,N7624\\r\\n'\n",
      "<class 'list'>\n",
      "-9162.82\n",
      " -244.39\n",
      "19.56\n",
      "N7624\n",
      "\n",
      "b'$-9162.82,  -98.92,19.56,N7624\\r\\n'\n",
      "<class 'list'>\n",
      "-9162.82\n",
      "  -98.92\n",
      "19.56\n",
      "N7624\n",
      "\n",
      "b'$-9162.82,  -97.34,19.56,N7624\\r\\n'\n",
      "<class 'list'>\n",
      "-9162.82\n",
      "  -97.34\n",
      "19.56\n",
      "N7624\n",
      "\n",
      "b'$-9162.82,  -80.63,19.54,N7624\\r\\n'\n",
      "<class 'list'>\n",
      "-9162.82\n",
      "  -80.63\n",
      "19.54\n",
      "N7624\n",
      "\n",
      "b'$-9162.82,  -76.86,19.55,N7624\\r\\n'\n",
      "<class 'list'>\n",
      "-9162.82\n",
      "  -76.86\n",
      "19.55\n",
      "N7624\n",
      "\n",
      "Comunicación Serial Interrumpida\n"
     ]
    }
   ],
   "source": [
    "#!/usr/bin/python3\n",
    "# -*- coding:utf-8 -*-\n",
    "\n",
    "\"\"\"\n",
    "__author__ = \"Roberto Toapanta\"\n",
    "__copyright__ = \"Copyright 2023, BitTech\"\n",
    "__credits__ = [\"Roberto Toapanta\"]\n",
    "__license__ = \"GPL\"\n",
    "__version__ = \"1.0.1\"\n",
    "__maintainer__ = \"Roberto Toapanta\"\n",
    "__email__ = \"robertocarlos.toapanta@gmail.com\"\n",
    "__status__ = \"Production\"\n",
    "__fecha__ = 25/03/23 00:14\n",
    "__description__ = \"Comunicación Serial a Inclinómetro Digital\"\n",
    "\"\"\"\n",
    "\n",
    "import serial\n",
    "\n",
    "if __name__ == '__main__':\n",
    "    list_values = []\n",
    "    value = []\n",
    "\n",
    "    #SERIAL_PORT = \"/dev/ttyUSB0\"  # puerto de lectura o escritura.   # linux\n",
    "    SERIAL_PORT = \"/dev/cu.usbserial-145240\"    # mac\n",
    "    #SERIAL_PORT = \"COM5\"  # puerto de lectura o escritura.   # win\n",
    "    BAUD_RATE = 9600  # velocidad de transmisión\n",
    "    PARITY = serial.PARITY_NONE\n",
    "    STOP_BITS = serial.STOPBITS_ONE\n",
    "    BYTE_SIZE = serial.EIGHTBITS\n",
    "\n",
    "    serialPort = serial.Serial(\n",
    "        port = SERIAL_PORT, # Puerto serial\n",
    "        baudrate = BAUD_RATE, # Velocidad de baudios\n",
    "        parity = PARITY,\n",
    "        stopbits = STOP_BITS,\n",
    "        bytesize = BYTE_SIZE,\n",
    "        timeout = 1.0\n",
    "    )\n",
    "\n",
    "print(\"Conectado a: \" + serialPort.portstr)\n",
    "\n",
    "while True:\n",
    "    try:\n",
    "        raw_data = serialPort.readline()        # leer una línea terminada '\\n'\n",
    "        print(raw_data)\n",
    "        if not raw_data:\n",
    "            print(\"Desconectado Interfaz Serial\")\n",
    "            continue  # si quiere acabar el proceso poner break\n",
    "        values = str(raw_data[0:len(raw_data)].decode(\"utf-8\"))\n",
    "        list_values = values.split(',')\n",
    "        print(type(list_values))\n",
    "        value_0 = (list_values[0])\n",
    "        value_1 = (list_values[1])\n",
    "        value_2 = (list_values[2])\n",
    "        value_3 = (list_values[3])\n",
    "        print(value_0[1:])           # 1er dato eje X\n",
    "        print(value_1)          # 2do dato eje Y\n",
    "        print(value_2)          # 3er dato temperatura\n",
    "        print(value_3)          # 4to dato numero serial\n",
    "\n",
    "    except KeyboardInterrupt:\n",
    "        print(\"Comunicación Serial Interrumpida\")\n",
    "        break\n",
    "serialPort.close()          # cierre el puerto inmediatamente."
   ]
  },
  {
   "cell_type": "markdown",
   "id": "c3388817-b0fb-486c-a429-7ec4fae233a6",
   "metadata": {},
   "source": [
    "https://github.com/adubkov/py-zabbix"
   ]
  },
  {
   "cell_type": "code",
   "execution_count": 1,
   "id": "0092fed5-0965-47b0-b9fb-ebc378641b5f",
   "metadata": {},
   "outputs": [
    {
     "name": "stdout",
     "output_type": "stream",
     "text": [
      "['Zabbix server', 'srv_leia', 'ELCHAT_RS', 'ANTG_FW', 'ANTM_QA', 'ANTG_QA', 'ANTS_QA', 'srv_waceroClon', 'srv_sc3Prim', 'srv_sc3des', 'IGUA_FW_1', 'srv_srvdatos', 'CEMOTI_FW', 'ANTM_FW_1', 'ANTM_FW_2', 'ANTS_FW', 'ATCMIL_FW_1', 'ATCMIL_FW_3', 'ATCMIL_FW_2', 'ATAC_XW', 'MONJAS_SW', 'cam_tung_ovt', 'cam_coto_lasso', 'cam_coto_lamerced', 'cam_coto_sincho', 'cam_coto_ruminahui', 'cam_coto_ruminahui_IR', 'cam_guag_ggpcam', 'cam_reve_rebeca_IR', 'cam_reve_copete', 'cam_reve_lava', 'cam_sierraN_vchico', 'cam_tung_achup', 'ILIN_SW', 'cam_tung_bayushig', 'PUTZAL_XW', 'cam_tung_pillate', 'LASSCM_XW', 'CAPADI_SW', 'PUTZAL_SW', 'CSEC_SW', 'ATAC_SW', 'JUANIT_SW', '192.168.60.9', '192.168.1.44', 'srvguralp', 'ALCE_FW', 'VCH1_FW_1', 'VCH1_FW_2', 'VCH1_FW_3', 'VCH1_FW_5', 'VCH1_FW_4', 'ELCHAT_FW_1', 'ELCHAT_FW_2', 'ELCHAT_FW_3', 'ELCHAT_FW_4', 'FER1_QA', 'FER1_FW', 'FER2_FW', 'FER2_QA', 'srv_sc3sec', 'SCHLGA_SW', 'CEAZ_FW', 'ALCE_QA', 'CEAZ_QA', 'VCH1_QA', 'VAZUF_FW_1', 'VAZUF_FW_2', 'VAZUF_DO', 'srvshake', 'sc3playback', 'srvprosismo', 'srvpicados', 'srvproxy2', 'srvzabbix', 'OLD_sc-gui', 'swift1', 'swift2', 'srvconver', 'SALI_FW_2', 'SALI_FW_3', 'AYAN_FW', 'CERANI_FW_1', 'CERANI_FW_2', 'MORR_FW_1', 'MORR_FW_2', 'APLA_FW', 'SALI_FW_1', 'SALI_RS', 'MORR_QA', 'SALN_UB', 'SALN_GP', 'AYAN_GP', 'ALBE_FW', 'ALBE_GL', 'APLA_RK', 'MRO2_GP', 'AZOG_FW', 'AZOG_RK', 'EEAZOG_FW', 'COTA_FW_1', 'COTA_SW', 'COTA_FW_2', 'COTA_FW_3', 'COTA_FW_4', 'COTA_FW_5', 'COTA_FW_6', 'URCU_FW', 'IMBA_FW', 'PULU_FW_1', 'PULU_FW_2', 'PAC1_FW', 'CAYA_FW_1', 'COTA_RK', 'YAHU_FW', 'YAHU_QA', 'PULU_QA', 'PLHA_GP', 'PAC1_QA', 'CAYA_RK', 'IMBA_QA', 'CYMI_GP', 'URCU_QA', 'CUSE_FW', 'CUSE_GL', 'CUSW_FW', 'CUSW_GL', 'CUIC_FW_2', 'CUIC_QA', 'CUIC_GP', 'AAT1_FW', 'AAT1_GL', 'ACOT_GL', 'AIB2_FW', 'AIB2_GL', 'AOTA_FW', 'AOTA_GL', 'CCNE_FW', 'CCNE_GP', 'PILISU_FW_1', 'AAM2_FW', 'VCES_FW_2', 'PILISU_FW_2', 'PILISU_SW', 'VCES_QA', 'PIS1_FW', 'PIS1_QA', 'AAM2_GL', 'PILISU_RV', 'COTA_RV', 'LNGL_FW', 'LNGL_RK', 'EANG_GP', 'CUIC_FW_1', 'PUTZAL_FW_1', 'PUTZAL_FW_2', 'PUTZAL_FW_3', 'PUTZAL_FW_4', 'PUTZAL_MT', 'APJL_FW', 'APJL_GL', 'ASLC_GL', 'ASLC_FW', 'BMOR_FW_1', 'BMOR_FW_2', 'BMOR_GE', 'SUCR_XW', 'ACHA_FW_2', 'QLTA_FW', 'QLTA_GP', 'LASSCM_NC', 'SUCR_AX', 'ALAT_FW', 'ALAT_GL', 'ILLI_FW', 'ILLI_QA', 'ACHA_FW_1', 'SAGU_FW', 'SAGU_GP', 'CATALN_FW', 'CATALN_NC', 'SANJ_XW', 'SANJ_DO', 'BNAS_XW_1', 'NAS1_GP', 'BNAS_RK', 'AGUL_XW', 'AGUL_CM', 'CLRS_XW_1', 'CLRS_MT_1', 'CLRS_MT_2', 'CLRS_XW_3', 'CORAZO_FW', 'AMAC_FW', 'CORAZO_MT', 'AMAC_RK', 'BNAS_XW_2', 'VCH1_NC', 'ACUE_RK', 'SLGO_FW', 'SLGO_GP', 'PPLP_FW_1', 'PPLP_FW_2', 'PPLP_XW', 'PPLP_QA', 'APLP_RK', 'MHLA_XW', 'MHLA_GP', 'ISPT_XW', 'ISPT_GP', 'ISPT_RK', 'ISPT_GL', 'COROZO_FW_1', 'JIPI_FW', 'JIPI_QA', 'CSOL_FW', 'CSOL_QA', 'COROZO_FW_2', 'COROZO_FW_3', 'PPLP_RS', 'AMIL_XW', 'AMIL_GL', 'COHC_XW', 'LOMAVI_FW_1', 'LOMAVI_FW_2', 'PECV_FW_1', 'PECV_FW_2', 'PECV_RK', 'ABH3_FW_1', 'ABH3_FW_2', 'ABH3_RK', 'ACHN_FW', 'ACHN_RK', 'BAHI_FW_1', 'BAHI_FW_2', 'ABH2_FW', 'ABH2_RK', 'REVS_FW_3', 'REVS_FW_4', 'REVS_QA', 'REVN_FW', 'REVN_QA', 'CASC_FW', 'CASC_QA', 'LUMB_GP', 'LUMB_SW', 'LUMB_RS', 'LUMB_FW_1', 'LUMB_FW_2', 'LUMB_FW_3', 'LUMB_FW_4', 'REVENT_XW', 'LAV4_XW', 'LAV4_RK', 'REVS_FW_1', 'REVS_FW_2', '192.168.100.102', '192.168.100.101', 'REVS_NC', 'srvisce', 'srvgpspro', 'alienw', 'srv_mwfmnear', 'cam_sangay_saga', 'CHMA', 'PTGL_XW', 'TRPG_XW', 'LOMAVI_MT', 'JAMA_MT', 'AGYE_GL', 'ATEN_FW', 'SUSE_FW', 'PCRA_FW_2', 'PCRA_FW_1', 'SUSE_QA', 'ACH2_FW_1', 'ACH2_FW_2', 'ACH2_FW_3', 'ACH2_RK', 'AEMAP_FW_1', 'AEMAP_FW_2', 'COHC_QA', 'COCH_GP', 'ARNS_FW', 'AEMAP_FW_3', 'ARNL_FW', 'ARNL_QA', 'ARNS_GP', 'MACH_FW_1', 'MACH_FW_2', 'ACH1_FW', 'ACH1_RK', 'PCRA_QA', 'CEMOTI_XW', 'GONZ_FW', 'GONZ_QA', 'LAMO_FW', 'LAMO_QA', 'VILLON_XW_2', 'LOJATE_FW', 'ATLC_FW', 'TULPRE_FW_1', 'ALJ1_FW', 'ALJ1_RK', 'TULPRE_FW_2', 'TULPRE_FW_3', 'TULPRE_FW_4', 'ATUL_FW', 'ATUL_GL', 'TULM_FW_1', 'TULM_QA', 'COEC_GP', 'CHL2_FW', 'CHL2_CT', 'CHLS_GP', 'PIAT', 'GONZ', 'ILLI', 'PILISU_AY', 'PADURC_FW_1', 'PADURC_FW_2', 'PUYO_FW', 'PUYO_QA', 'PYEC_GP', 'SRPUYO_FW_1', 'SRPUYO_FW_2', 'APUY_FW', 'APUY_GL', 'REBECA_FW', '192.168.1.11', '192.168.1.9', '192.168.1.107', '192.168.1.6', '192.168.1.10', '192.168.1.117', '192.168.1.119', '192.168.1.49', 'JSCH_FW_1', 'JSCH_FW_2', 'JSCH_QA', 'AGRD_FW', 'AGRD_GL', 'ABAB_FW_1', 'ABAB_FW_2', 'ABAB_RK', 'MONB_FW', 'MONB_QA', '192.168.1.141', '192.168.137.3', 'srv_mail 1.52', 'SALI_QA', 'SALI_UB', 'srvmatlablinux', 'srvdatasam', 'srvjbosslinux', 'srvmsql', 'srvcorreo', 'REBECA_CF', 'LAVCAM_FW', 'LAVCAM_NC', 'YANA_FW', 'YANA_RK', 'IESR_FW_1', 'FARNOR_FW_1', 'FARNOR_FW_2', 'FARNOR_FW_3', 'FARNOR_FW_4', 'FARNOR_FW_5', 'BASEIG_FW_1', 'BASEIG_FW_2', 'BASEIG_FW_3', 'BASEIG_FW_4', 'CAYR_FW_1', 'CAYR_RK', 'CYRF_FW_1', 'CYRF_GP', 'FENY_FW', 'ANGU_FW', 'ANGU_RK', 'QUEM_FW', 'QUEM_GP', 'ATEC_HP', 'TILT_SRV_1', 'PC Roberto', '192.168.1.201', '192.168.1.61', 'MONJAS_FW_1', 'MONJAS_FW_2', 'MONJAS_FW_3', 'PUEM_FW', 'PUEM_RK', 'TING_FW', 'TING_GL', 'BTER_FW', 'BTER_RK', 'GPCAM_FW', 'BORD_FW_1', 'BORD_FW_2', 'GGPT_FW', '192.168.132.30', '192.168.132.3', '192.168.132.2', '192.168.132.4', '192.168.132.31', 'GPCAM_NC', 'ATAC_FW_1', 'GGPT_QA', '192.168.135.4', 'srvdataback', 'srvgps', '192.168.1.158', 'TILT_SRV_2', 'SCHLGA_FW_1', 'SCHLGA_UB', 'SCHLGA_FW_4', 'TAMB_FW_1', 'TAMB_RK', 'PITA_FW', 'COTOR_FW', 'REPSDO_FW_2', 'REPSDO_FW_1', 'TAMB_FW_2', 'TAMB_GP', 'SCHLGA_FW_6', 'LMERCD_FW', 'LMERCD_NC', 'GGPC_FW', 'GGPC_QA', 'GGPA_GP', 'SCHLGA_FW_7', 'PITA_RK', 'VC1_FW_1', 'VC1_FW_2', 'VC1_FW_3', 'VC1_RK', 'ANTI_FW', 'ANTI_RK', 'CSEC_FW', 'BNAS_FW_3', 'CSEC_XW', 'CSEC_GP', 'CSEC_RV', 'MNTR_FW', 'MANTE_XW', 'MNTR_UB', 'AMNT_UB', 'AMNT_GL', 'ARIO_FW', 'ARIO_GL', 'RIOP_FW_1', 'RIOP_FW_2', 'RIOP_GP', 'CHSH_FW', 'CHSH_QA', 'ILIN_FW_4', 'ILIN_FW_1', 'ILIN_FW_2', 'ILIN_FW_3', 'ILIN_FW_5', 'NAS2_FW', 'NAS2_RK', 'SLOR_FW', 'SLOR_RK', 'JAMA_FW_1', 'JAMA_FW_2', 'CAB1_FW', 'FLF_FW', 'JAMA_RK', 'CABP_GP', 'CAB1_QA', 'FLF_QA', 'FLFR_GP', 'GATAZO_FW_1', 'GATAZO_FW_2', 'GATAZO_FW_3', 'TRAT_FW_1', 'TRAT_FW_2', 'AATC_FW', 'ATON_FW', 'TRTH_FW', 'AES2_FW', 'ATON_RK', 'AES2_RK', 'AATC_RK', 'TRAT_GP', 'TRTH_GP', 'ZAPALL_FW_1', 'ZAPALL_FW_2', 'TRLP_FW', 'TRLP_GP', 'ESM1_RK', 'JUA2_FW', 'JUA2_RK', 'AES1_RK', 'ATAC_FW_2', 'ATAC_FW_3', 'ZALD_FW', 'ZALD_GL', 'IGUA_FW_2', 'IGUA_FW_3', 'PORT_FW', 'TAMH_FW', 'TAMH_QA', 'PORT_QA', 'CHZO_GP', 'ARA2_FW', 'ARA2_RK', 'IGUA_RK', 'JUI6_FW', 'BRTU_FW', 'CNEC_FW', 'JUI6_RK', 'BRTU_RK', 'CNEC_GP', 'TABL_FW_3', 'HRPT_FW_2', 'HRPT_XW', 'HRPT_FW_1', 'ACOT_FW', 'CYRF_DO', 'FENY_GL', 'LOMAGR_FW_1', 'LOMAGR_FW_5', 'LOMAGR_FW_7', 'OVTCAM_NC', 'BAYSHG_FW', 'BAYSHG_NC', 'BAYSHG_DO', 'PILLTE_XW', 'PILLTE_NC', 'PILLTE_DO', 'ACHPSH_FW', 'ACHPSH_NC', 'ECEN_FW_1', 'ECEN_FW_2', 'ECEN_RK', 'CHL1_FW', 'CHL1_RK', 'CHLW_GP', 'CHMA_FW', 'CHMA_RK', 'VILLON_XW_1', 'VILLON_FW_1', 'VILLON_FW_2', 'AC07_FW_1', 'AC07_RK', 'AC07_RV', 'AC07_SW', 'LOMAGR_FW_2', 'LOMAGR_FW_3', 'LOMAGR_FW_4', 'LOMAGR_FW_6', 'TABL_FW_1', 'TABL_FW_2', 'BIL2_FW', 'BIL2_RK', 'BIEC_GP', 'VZCY_FW', 'VZCY_GP', 'BBIL_FW', 'BBIL_GE', 'BULB_FW', 'BULB_RK', 'BRUN_FW_1', 'BRUN_FW_2', 'BRUN_FW_3', 'BRUN_GE', 'BRUN_NC', 'LOMAGR_SW', 'LOMAGR_RV', 'ATEN_GL', 'ALOR_RK', 'SNLR_QA', 'SNLR_GP', 'SNLR_UB', 'OVTCAM_SW', 'SAGA_QA', 'SAGA_RS', 'ISPG_QA', 'ISPG_FW', 'SAGA_NC', 'RBON_RS', 'ZUMB_RS', 'ZUMB_QA', 'LITA_RS', 'LITA_RK', 'ALIT_RK', 'RVRD_RS', 'BOSC_RS', 'BOSC_QA', 'IGUA_XW_2', 'IGUA_FW_4', 'IGUA_FW_5', 'IGUA_FW_6', 'IGUA_AY', 'BPAT_FW', 'BMAS_FW', 'BMAS_RK', 'BPAT_GE', 'PIS1_FW_2', 'PIS1_GP', 'SCHLGA_FW_2', 'SCHLGA_FW_5', 'SCHLGA_FW_8', 'SCHLGA_FW_9', 'SCHLGA_XW', 'SCHLGA_CI', 'SCHLGA_NC', 'VC2_FW', 'BVC2_GE', 'BREF - FW', 'BREF - GE', 'BREF - DO', 'BTAM_XW', 'BTAM_GE', 'BTOMA_FW', 'BTOMA_AX', 'MZEC_FW', 'MZEC_GP', 'PSTC_FW', 'PSTC_GP', 'SRAM_FW', 'SRAM_AX', 'BRALTA_FW', 'BRALTA_NC', 'BRALTA_AX', 'VCES_FW_1', 'VCES_GP', 'CAME_FW', 'CAME_GP', 'CAMI_DO', 'REFS_FW', 'REFS_DO', 'CLLDNS_FW', 'CLLDNS_NC', 'REVN_DO', 'BASEIG_SW_1', 'RUNA_UB', 'RUNA_NC', 'RUNA_IR', 'srvmongraf', 'truenas', 'MILO_FW', 'MILO_QA', 'MCRA_QA', 'MCRA_RS', 'GYE1_RK', 'GYE3_RK', 'AC07_FW_2', 'AC07_FW_3', 'GYGU_FW', 'GYGU_RK', 'GYZU_FW', 'GYZU_RK', 'GYC2_FW', 'GYC2_RK', 'GYKA_FW', 'GYKA_RK', 'GYPS_FW', 'GYPS_RK', 'BONI_FW', 'BONI_QA', 'RBON_FW', 'srvsc3gps', 'srvpropyth', 'RETU_GP', 'srvprogfas', 'srvprotomo', 'APO2_FW', 'TEPORT_FW', 'APO2_RK', 'IESR_FW_2', 'IESR_UB', 'IESS_UB', 'IESS_GL', '24MA_FW', '24MA_GL', 'PTGL_QA', 'PTGL_GP', 'TRPG_GP', 'TRPG_RS', 'GYPL_RK', 'GYPL_FW', 'COSDOM_FW', 'COSDOM_RP', 'VCH1_FW_6', 'PVIL_FW', 'PVIL_RK', 'srvpropuna', 'PKYU_RS', 'PKYU_RK', 'PIAT_RS', 'PIAT_QA', 'TAIS_RS', 'TAIS_RK', 'LAMO_RK', 'IG_GP', 'SIND_XW_1', 'SIND_XW_2', 'ATIL_XW', 'ATIL_DO', 'ESM1_FW', 'PUNA_GP', 'PAS1_RK', 'AMCR_RK', 'SHEC_FW', 'SHEC_GP', 'PUTZAL_FW_5', 'REBECA_NC', 'LUMB_RV', 'CAYA_FW_2', 'CAYM_FW', 'CENE_GP', 'RVRD_QA', 'RVRD_GP', 'SANL_UB', 'LIEC_GP', 'BASEIG_FW_5', 'CONE_FW', 'CONE_GP', 'VC1G_FW', 'VC1G_GP', 'SCHLGA_FW_11', 'SCHLGA_FW_12', 'SRVDATSCV4', 'srvbddnosq', 'OVTCAM_FW', 'MONJAS_FW_4', 'AVUL_HP', 'GMTE_XW', 'GMTE_GP', 'IGUA_XW_1', 'CNTG_XW_1', 'CNTG_XW_2', 'BASEIG_FW_6', 'BASEIG_FW_7', 'BASEIG_FW_8', 'BASEIG_FW_9', 'BASEIG_FW_10', 'BASEIG_FW_11', 'BASEIG_SW_2', 'CYRF_FW_2', 'CAYR_FW_2', 'CIVI_GL', 'BMOR_FW_3', 'MORU_GP', 'MORU_FW', 'FER1_GP', 'FER2_GP', 'VAZUF_FW_3', 'VAZUF_FW_4', 'TULM_FW_2', 'TITS_FW', 'TITS_GP', 'SRVMONSCPF_OLD', 'SRVMONSCPV', 'SRVPROSCPP', 'TOAL_FW', 'TOAL_GP', 'TOAL_WR', 'CO1V_CT', 'MONJAS_RV', 'SCHLGA_RV', 'CSEC_MT', 'BNAS_MG', 'ILIN_FW_6', 'PPLP_MT', 'RUNA_CT_1', 'TAMB_UB', 'COSE_UB', 'COSE_CT', 'BTAM_DO', 'ACH2_FW_4', 'RUNA_CT_2', '192.168.135.18', 'BTAM_AX', 'RUNA_EM_1', 'RUNA_EM_2', 'SRVMONSCPF']\n"
     ]
    },
    {
     "data": {
      "text/plain": [
       "True"
      ]
     },
     "execution_count": 1,
     "metadata": {},
     "output_type": "execute_result"
    }
   ],
   "source": [
    "\n",
    "from pyzabbix.api import ZabbixAPI\n",
    "\n",
    "# Create ZabbixAPI class instance\n",
    "zapi = ZabbixAPI(url='http://192.168.1.115/zabbix/', user='rtoapanta', password='TECNOLOGO')\n",
    "\n",
    "# Get all monitored hosts\n",
    "result1 = zapi.host.get(monitored_hosts=1, output='extend')\n",
    "\n",
    "# Get all disabled hosts\n",
    "result2 = zapi.do_request('host.get',\n",
    "                          {\n",
    "                              'filter': {'status': 1},\n",
    "                              'output': 'extend'\n",
    "                          })\n",
    "\n",
    "# Filter results\n",
    "hostnames1 = [host['host'] for host in result1]\n",
    "print(hostnames1)\n",
    "\n",
    "# Logout from Zabbix\n",
    "zapi.user.logout()"
   ]
  },
  {
   "cell_type": "code",
   "execution_count": null,
   "id": "a48d5375-7398-4df3-99a9-8dffb3f30862",
   "metadata": {},
   "outputs": [],
   "source": []
  }
 ],
 "metadata": {
  "kernelspec": {
   "display_name": "env_tilt_project",
   "language": "python",
   "name": "env_tilt_project"
  },
  "language_info": {
   "codemirror_mode": {
    "name": "ipython",
    "version": 3
   },
   "file_extension": ".py",
   "mimetype": "text/x-python",
   "name": "python",
   "nbconvert_exporter": "python",
   "pygments_lexer": "ipython3",
   "version": "3.11.3"
  }
 },
 "nbformat": 4,
 "nbformat_minor": 5
}

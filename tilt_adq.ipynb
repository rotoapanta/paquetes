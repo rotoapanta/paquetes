{
 "cells": [
  {
   "cell_type": "markdown",
   "id": "3282f115-98ca-4b30-848f-a7dd496b264c",
   "metadata": {},
   "source": [
    "# https://pypi.org/project/pyserial/\n",
    "## pip install pyserial"
   ]
  },
  {
   "cell_type": "code",
   "execution_count": null,
   "id": "f26fe5e1-92be-4c0e-b6dc-ecdcd30f6633",
   "metadata": {},
   "outputs": [],
   "source": [
    "import importlib\n",
    "import subprocess\n",
    "\n",
    "def install_package(package_name):\n",
    "    try:\n",
    "        importlib.import_module(package_name)\n",
    "        print(f\"{package_name} ya está instalado.\")\n",
    "    except ImportError:\n",
    "        print(f\"{package_name} no está instalado. Instalando...\")\n",
    "        subprocess.check_call([\"pip\", \"install\", package_name])\n",
    "        print(f\"{package_name} instalado exitosamente.\")\n",
    " \n",
    "# Verificar e instalar la librería 'pyserial'\n",
    "install_package('pyserial')\n",
    "# Verificar e instalar la librería 'pyzabbix'\n",
    "install_package('pyzabbix')"
   ]
  },
  {
   "cell_type": "markdown",
   "id": "c3388817-b0fb-486c-a429-7ec4fae233a6",
   "metadata": {},
   "source": [
    "https://github.com/adubkov/py-zabbix"
   ]
  },
  {
   "cell_type": "code",
   "execution_count": null,
   "id": "0092fed5-0965-47b0-b9fb-ebc378641b5f",
   "metadata": {},
   "outputs": [],
   "source": [
    "\n",
    "from pyzabbix.api import ZabbixAPI\n",
    "\n",
    "# Create ZabbixAPI class instance\n",
    "zapi = ZabbixAPI(url='http://192.168.1.115/zabbix/', user='rtoapanta', password='TECNOLOGO')\n",
    "\n",
    "# Get all monitored hosts\n",
    "result1 = zapi.host.get(monitored_hosts=1, output='extend')\n",
    "\n",
    "# Get all disabled hosts\n",
    "result2 = zapi.do_request('host.get',\n",
    "                          {\n",
    "                              'filter': {'status': 1},\n",
    "                              'output': 'extend'\n",
    "                          })\n",
    "\n",
    "# Filter results\n",
    "hostnames1 = [host['host'] for host in result1]\n",
    "print(hostnames1)\n",
    "\n",
    "# Logout from Zabbix\n",
    "zapi.user.logout()"
   ]
  },
  {
   "cell_type": "code",
   "execution_count": null,
   "id": "a48d5375-7398-4df3-99a9-8dffb3f30862",
   "metadata": {},
   "outputs": [],
   "source": []
  }
 ],
 "metadata": {
  "kernelspec": {
   "display_name": "env_tilt_project",
   "language": "python",
   "name": "env_tilt_project"
  },
  "language_info": {
   "codemirror_mode": {
    "name": "ipython",
    "version": 3
   },
   "file_extension": ".py",
   "mimetype": "text/x-python",
   "name": "python",
   "nbconvert_exporter": "python",
   "pygments_lexer": "ipython3",
   "version": "3.11.3"
  }
 },
 "nbformat": 4,
 "nbformat_minor": 5
}
